{
 "cells": [
  {
   "cell_type": "code",
   "execution_count": 1,
   "metadata": {},
   "outputs": [],
   "source": [
    "# import the relevant modules\n",
    "import pandas as pd\n",
    "%matplotlib inline\n",
    "import numpy as np\n",
    "import matplotlib.pyplot as plt\n",
    "from datetime import datetime\n"
   ]
  },
  {
   "cell_type": "code",
   "execution_count": 2,
   "metadata": {},
   "outputs": [],
   "source": [
    "#Getting Data retrieved in Project_Part1\n",
    "file='AllData_2.csv'\n",
    "df_data_orig=pd.read_csv(file)\n",
    "df_data=df_data_orig.copy()\n",
    "#delete any unnamed column produ#Getting Data retrieved in Project_Part1\n",
    "file='AllData_2.csv'\n",
    "df_data_orig=pd.read_csv(file)\n",
    "df_data=df_data_orig.copy()\n",
    "#delete any unnamed column product of saving DataFrames in range index to csv\n",
    "df_data.drop(df_data.columns[df_data.columns.str.contains('unnamed',case = False)],axis = 1, inplace=True)\n",
    "df_data.head()\n",
    "\n",
    "#getting US regions\n",
    "file='regions.csv'\n",
    "df_reg_orig=pd.read_csv(file)\n",
    "df_reg=df_reg_orig.copy()\n",
    "\n",
    "#Add column Region to the DataFrame\n",
    "for reg in df_reg.columns:\n",
    "    #getting the data for th e states of New England\n",
    "    states=df_reg[reg].dropna()\n",
    "    list_states=list(states.values)\n",
    "\n",
    "    idx_region=df_data.index[df_data['state'].isin(list_states)]\n",
    "    df_data.loc[idx_region,'region']=reg#ct of saving DataFrames in range index to csv\n",
    "df_data.drop(df_data.columns[df_data.columns.str.contains('unnamed',case = False)],axis = 1, inplace=True)\n",
    "df_data.head()\n",
    "\n",
    "#getting US regions\n",
    "file='regions.csv'\n",
    "df_reg_orig=pd.read_csv(file)\n",
    "df_reg=df_reg_orig.copy()\n",
    "\n",
    "#Add column Region to the DataFrame\n",
    "for reg in df_reg.columns:\n",
    "    #getting the data for th e states of New England\n",
    "    states=df_reg[reg].dropna()\n",
    "    list_states=list(states.values)\n",
    "\n",
    "    idx_region=df_data.index[df_data['state'].isin(list_states)]\n",
    "    df_data.loc[idx_region,'region']=reg"
   ]
  },
  {
   "cell_type": "code",
   "execution_count": 4,
   "metadata": {},
   "outputs": [],
   "source": [
    "#Annual and monthly mean in US\n",
    "def resample_mean_US(df, f='Y'):\n",
    "   \n",
    "    df['date']=pd.to_datetime(df['date'], format=\"%Y-%m-%d\")\n",
    "    if f=='m': \n",
    "        df['month']=df['date'].dt.month\n",
    "    df=df.set_index(['date'])\n",
    "    df = df.sort_values(by=['date'],ascending=[True])\n",
    "    df=df.resample(f).mean()\n",
    "    if f=='m': \n",
    "        df=df.groupby(by='month').mean()\n",
    "    return df"
   ]
  },
  {
   "cell_type": "code",
   "execution_count": 5,
   "metadata": {},
   "outputs": [
    {
     "data": {
      "image/png": "[encoded data removed]",
      "text/plain": [
       "<Figure size 864x345.6 with 2 Axes>"
      ]
     },
     "metadata": {
      "needs_background": "light"
     },
     "output_type": "display_data"
    }
   ],
   "source": [
    "\n",
    "\n",
    "# Electricity Price in USA with respect to average temperature by month\n",
    "df_monthly_US=resample_mean_US(df_data,f='m')\n",
    "\n",
    "variable_y='Average retail price of electricity'\n",
    "variable_x='Month'\n",
    "title_graph='USA average - Retail price of electricity Vs Temperature'\n",
    "label_x='Month'\n",
    "label_y='cents per kilowatthour'\n",
    "variable_color='TAVG'\n",
    "\n",
    "#x=df_monthly_US[variable_x]\n",
    "v_x=df_monthly_US.index\n",
    "v_y=df_monthly_US[variable_y]\n",
    "v_z=df_monthly_US[variable_color]\n",
    "\n",
    "#Format the size of the figure/plot\n",
    "width=12\n",
    "height=4.8\n",
    "plt.rcParams['figure.figsize'] = [width, height]\n",
    "\n",
    "plt.scatter(x=v_x, y=v_y, c=v_z, cmap='jet', linewidth=4)\n",
    "        \n",
    "plt.xlabel(variable_x)\n",
    "plt.ylabel(variable_y)\n",
    "plt.title(variable_y+'- USA')\n",
    "cbar=plt.colorbar()\n",
    "cbar.ax.set_ylabel('Average Temperature', rotation=90)\n",
    "\n",
    "#plt.legend(bbox_to_anchor=(0, -0.15, 1, 0), loc='best', ncol=5, mode=\"expand\")\n",
    "\n",
    "#plt.xlim('2001-01-01', '2018-12-31')\n",
    "#plt.yscale('log')\n",
    "plt.savefig('img/USA average_2 -PriceVsTemperature per month.png')\n",
    "plt.show()\n",
    "\n"
   ]
  },
  {
   "cell_type": "code",
   "execution_count": null,
   "metadata": {},
   "outputs": [],
   "source": []
  }
 ],
 "metadata": {
  "kernelspec": {
   "display_name": "Python 3",
   "language": "python",
   "name": "python3"
  },
  "language_info": {
   "codemirror_mode": {
    "name": "ipython",
    "version": 3
   },
   "file_extension": ".py",
   "mimetype": "text/x-python",
   "name": "python",
   "nbconvert_exporter": "python",
   "pygments_lexer": "ipython3",
   "version": "3.7.1"
  }
 },
 "nbformat": 4,
 "nbformat_minor": 2
}
